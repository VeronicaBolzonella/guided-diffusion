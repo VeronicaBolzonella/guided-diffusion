{
 "cells": [
  {
   "cell_type": "code",
   "execution_count": 6,
   "metadata": {},
   "outputs": [],
   "source": [
    "#!/usr/bin/env python\n",
    "##############################################\n",
    "# Gabor filter, multiple filters in one. Generate fiter bank.\n",
    "# ref: https://www.youtube.com/watch?v=QEz4bG9P3Qs\n",
    "\"\"\"\n",
    "ksize Size of the filter returned.\n",
    "sigma Standard deviation of the gaussian envelope.\n",
    "theta Orientation of the normal to the parallel stripes of a Gabor function.\n",
    "lambda Wavelength of the sinusoidal factor.\n",
    "gamma Spatial aspect ratio.\n",
    "psi Phase offset.\n",
    "ktype Type of filter coefficients. It can be CV_32F or CV_64F.\n",
    "indicates the type and range of values that each pixel in the Gabor kernel can hold.\n",
    "Basically float32 or float64\n",
    "\"\"\"\n",
    "\n",
    "# Previously made 24 filters (6 locations, 4 orientations at each location). Generated the filters in a loop, and applied \n",
    "# them iteratively. The neuronal rsps were summed and plotted. Now, generate filters separately, sum and plot result to \n",
    "# confirm the loop generation was correct.\n",
    "\n",
    "# After the previous is done, try doing the iterative generation again to see if results are the same as yesterday\n",
    "\n",
    "import numpy as np\n",
    "import cv2\n",
    "import matplotlib.pyplot as plt"
   ]
  },
  {
   "cell_type": "code",
   "execution_count": 7,
   "metadata": {},
   "outputs": [
    {
     "name": "stdout",
     "output_type": "stream",
     "text": [
      "(128, 128)\n"
     ]
    }
   ],
   "source": [
    "# Read image \n",
    "img = cv2.imread('/src/v1/artificial_patterns.png', cv2.IMREAD_GRAYSCALE)\n",
    "def image_resize(image, width = None, height = None, inter = cv2.INTER_AREA):\n",
    "    # initialize the dimensions of the image to be resized and\n",
    "    # grab the image size\n",
    "    dim = None\n",
    "    (h, w) = image.shape[:2]\n",
    "\n",
    "    # if both the width and height are None, then return the\n",
    "    # original image\n",
    "    if width is None and height is None:\n",
    "        return image\n",
    "\n",
    "    # check to see if the width is None\n",
    "    if width is None:\n",
    "        # calculate the ratio of the height and construct the\n",
    "        # dimensions\n",
    "        r = height / float(h)\n",
    "        dim = (int(w * r), height)\n",
    "\n",
    "    # otherwise, the height is None\n",
    "    else:\n",
    "        # calculate the ratio of the width and construct the\n",
    "        # dimensions\n",
    "        r = width / float(w)\n",
    "        dim = (width, int(h * r))\n",
    "\n",
    "    # resize the image\n",
    "    resized = cv2.resize(image, dim, interpolation = inter)\n",
    "\n",
    "    # return the resized image\n",
    "    return resized\n",
    "img = image_resize(img, height = 128)  # Resize image\n",
    "img = img[:,23:151]\n",
    "print(img.shape)\n",
    "ksize = min(img.shape)\n",
    "# plt.imshow(img)"
   ]
  },
  {
   "cell_type": "code",
   "execution_count": 8,
   "metadata": {},
   "outputs": [
    {
     "name": "stdout",
     "output_type": "stream",
     "text": [
      "['filter', '128', '16', '2.356194490192345', '15.707963267948966', '0.7853981633974483', '0']\n",
      "ksize 128\n",
      "sigma 16.0\n",
      "theta 2.356194490192345\n",
      "lamda 15.707963267948966\n",
      "gamma 0.7853981633974483\n",
      "phi 0.0\n"
     ]
    }
   ],
   "source": [
    "# Construct parameter dict\n",
    "# Future filters are roughly based on this one... (sigma 16 -> 8)\n",
    "file_name = 'filter_128_16_2.356194490192345_15.707963267948966_0.7853981633974483_0.jpg'\n",
    "def parse_gabor_param(file_name):\n",
    "    print(file_name[:-4].split('_'))\n",
    "    param_dict = {}\n",
    "    now_params = file_name[:-4].split('_')\n",
    "    ksize = int(now_params[1])\n",
    "    param_dict['ksize'] = ksize\n",
    "    now_sigma = float(now_params[2])\n",
    "    param_dict['sigma'] = now_sigma\n",
    "    now_theta = float(now_params[3])\n",
    "    param_dict['theta'] = now_theta\n",
    "    now_lamda = float(now_params[4])\n",
    "    param_dict['lamda'] = now_lamda\n",
    "    now_gamma = float(now_params[5])\n",
    "    param_dict['gamma'] = now_gamma\n",
    "    phi = float(now_params[6])\n",
    "    param_dict['phi'] = phi\n",
    "    kernel = cv2.getGaborKernel((ksize, ksize), now_sigma, now_theta, now_lamda, now_gamma, phi, ktype=cv2.CV_32F)\n",
    "    return kernel, param_dict\n",
    "GF, param_dict = parse_gabor_param(file_name)\n",
    "# plt.imshow(GF)\n",
    "for k in param_dict.keys():\n",
    "    print(k, param_dict[k])\n",
    "# like the look of this one... use it in 4 directions...    \n",
    "\n",
    "# changed sigma not sure if was necessary"
   ]
  },
  {
   "cell_type": "code",
   "execution_count": 41,
   "metadata": {},
   "outputs": [
    {
     "name": "stdout",
     "output_type": "stream",
     "text": [
      "len(k_in_all_orientations) =4\n",
      "len(shift_RF_by) =6\n",
      "len(k_collection) =28\n",
      "len(param_collection['theta']) =28\n"
     ]
    }
   ],
   "source": [
    "# initialize kernel collection and kernel parameter collection\n",
    "ksize = param_dict['ksize']\n",
    "theta = np.linspace(0, np.pi, 4)\n",
    "sigma = 8\n",
    "# sigma = param_dict['sigma']\n",
    "lamda = param_dict['lamda']\n",
    "gamma = param_dict['gamma']\n",
    "phi = param_dict['phi']\n",
    "param_collection = {}\n",
    "\n",
    "for k in param_dict.keys():\n",
    "    param_collection[k] = []\n",
    "\n",
    "param_collection['shift_by'] = []\n",
    "\n",
    "# generate filters\n",
    "shift_RF_by = [(61, 101), (60, 25), (100, 25), (100, 100), (15, 25), (15, 100)]\n",
    "# reverse order to match the previous order of shifting RF\n",
    "shift_RF_by.reverse()\n",
    "k_collection = []\n",
    "k_in_all_orientations = []\n",
    "for t in theta:\n",
    "        kernel = cv2.getGaborKernel((ksize, ksize), sigma, t, lamda, gamma, phi, ktype=cv2.CV_32F)\n",
    "        \n",
    "        param_collection['ksize'].append(ksize)\n",
    "        param_collection['sigma'].append(sigma)\n",
    "        param_collection['theta'].append(t)\n",
    "        param_collection['lamda'].append(lamda)\n",
    "        param_collection['gamma'].append(gamma)\n",
    "        param_collection['phi'].append(phi)\n",
    "        param_collection['shift_by'].append(\"no_shift\")\n",
    "        k_in_all_orientations.append(kernel[:ksize,:ksize])\n",
    "        k_collection.append(kernel[:ksize,:ksize])\n",
    "\n",
    "for shift_by in shift_RF_by:\n",
    "        for i, t in enumerate(theta):\n",
    "        # for k in k_in_all_orientations:\n",
    "                k = k_in_all_orientations[i]\n",
    "                k_shifted = cv2.getRectSubPix(k, (ksize,ksize), shift_by)\n",
    "\n",
    "                param_collection['ksize'].append(ksize)\n",
    "                param_collection['sigma'].append(sigma)\n",
    "                param_collection['theta'].append(t)\n",
    "                param_collection['lamda'].append(lamda)\n",
    "                param_collection['gamma'].append(gamma)\n",
    "                param_collection['phi'].append(phi)\n",
    "                param_collection['shift_by'].append(shift_by)\n",
    "                k_collection.append(k_shifted)\n",
    "print(f\"len(k_in_all_orientations) ={len(k_in_all_orientations)}\")\n",
    "print(f\"len(shift_RF_by) ={len(shift_RF_by)}\")\n",
    "print(f\"len(k_collection) ={len(k_collection)}\")\n",
    "print(f\"len(param_collection['theta']) ={len(param_collection['theta'])}\")"
   ]
  },
  {
   "cell_type": "code",
   "execution_count": 42,
   "metadata": {},
   "outputs": [
    {
     "name": "stdout",
     "output_type": "stream",
     "text": [
      "len(n_response) =28\n"
     ]
    },
    {
     "data": {
      "text/plain": [
       "<matplotlib.lines.Line2D at 0x7fc963a34730>"
      ]
     },
     "execution_count": 42,
     "metadata": {},
     "output_type": "execute_result"
    },
    {
     "data": {
      "image/png": "[encoded data removed]",
      "text/plain": [
       "<Figure size 640x480 with 1 Axes>"
      ]
     },
     "metadata": {},
     "output_type": "display_data"
    }
   ],
   "source": [
    "n_response = []\n",
    "\n",
    "for k in k_collection:\n",
    "    n_response.append(np.sum(img*k))\n",
    "print(f\"len(n_response) ={len(n_response)}\")\n",
    "plt.figure()\n",
    "plt.scatter(np.array(param_collection['theta'])*180/np.pi, np.abs(n_response))\n",
    "plt.axvline(x = 45, color = 'b')\n",
    "plt.axvline(x = 90, color = 'r')\n",
    "plt.axvline(x = 135, color = 'b')"
   ]
  }
 ],
 "metadata": {
  "kernelspec": {
   "display_name": "Python 3",
   "language": "python",
   "name": "python3"
  },
  "language_info": {
   "codemirror_mode": {
    "name": "ipython",
    "version": 3
   },
   "file_extension": ".py",
   "mimetype": "text/x-python",
   "name": "python",
   "nbconvert_exporter": "python",
   "pygments_lexer": "ipython3",
   "version": "3.8.10"
  },
  "orig_nbformat": 4,
  "vscode": {
   "interpreter": {
    "hash": "31f2aee4e71d21fbe5cf8b01ff0e069b9275f58929596ceb00d14d90e3e16cd6"
   }
  }
 },
 "nbformat": 4,
 "nbformat_minor": 2
}
